{
 "cells": [
  {
   "cell_type": "code",
   "execution_count": 44,
   "id": "1c460b4b",
   "metadata": {},
   "outputs": [
    {
     "name": "stdout",
     "output_type": "stream",
     "text": [
      "True\n"
     ]
    }
   ],
   "source": [
    "import tensorflow as tf\n",
    "\n",
    "print(len(tf.config.list_physical_devices('GPU'))>0)"
   ]
  },
  {
   "cell_type": "code",
   "execution_count": 45,
   "id": "1627fbe3",
   "metadata": {},
   "outputs": [],
   "source": [
    "import numpy as np\n",
    "import matplotlib.pyplot as plt\n",
    "import scipy.io\n",
    "import cv2\n",
    "import os\n",
    "from tensorflow.keras import Sequential\n",
    "from tensorflow.keras.layers import Conv2D, MaxPooling2D, Flatten, Dense, Dropout, BatchNormalization\n",
    "from tensorflow.keras.callbacks import EarlyStopping, ModelCheckpoint\n",
    "from sklearn.model_selection import train_test_split\n",
    "\n",
    "from keras.applications.vgg16 import VGG16\n",
    "from keras.applications.resnet import ResNet50\n",
    "%matplotlib inline"
   ]
  },
  {
   "cell_type": "code",
   "execution_count": 46,
   "id": "fcf68149",
   "metadata": {},
   "outputs": [],
   "source": [
    "mat = scipy.io.loadmat('C:/Users/rsk13/Desktop/Code/Projects/DL Projects/House Street/DO NOT UPLOAD/Cropped/train_32x32.mat')"
   ]
  },
  {
   "cell_type": "code",
   "execution_count": 47,
   "id": "e5f07f07",
   "metadata": {
    "scrolled": true
   },
   "outputs": [
    {
     "data": {
      "text/plain": [
       "{'__header__': b'MATLAB 5.0 MAT-file, Platform: GLNXA64, Created on: Mon Dec  5 21:09:26 2011',\n",
       " '__version__': '1.0',\n",
       " '__globals__': [],\n",
       " 'X': array([[[[ 33,  84,  19, ...,  92, 190, 216],\n",
       "          [ 30,  76,  54, ...,  78, 188, 217],\n",
       "          [ 38,  59, 110, ..., 101, 191, 212]],\n",
       " \n",
       "         [[ 15,  86,  20, ...,  94, 205, 221],\n",
       "          [ 23,  73,  52, ...,  82, 203, 222],\n",
       "          [ 19,  66, 111, ..., 105, 206, 217]],\n",
       " \n",
       "         [[ 15,  77,  25, ..., 114, 220, 226],\n",
       "          [ 17,  78,  57, ..., 101, 218, 227],\n",
       "          [ 19,  56, 116, ..., 125, 220, 221]],\n",
       " \n",
       "         ...,\n",
       " \n",
       "         [[ 72,  90,  65, ..., 200, 229, 200],\n",
       "          [ 65,  78, 144, ..., 201, 231, 199],\n",
       "          [ 56,  69, 223, ..., 203, 224, 191]],\n",
       " \n",
       "         [[ 82,  88,  78, ..., 192, 229, 193],\n",
       "          [ 77,  77, 148, ..., 193, 229, 188],\n",
       "          [ 57,  67, 218, ..., 195, 224, 182]],\n",
       " \n",
       "         [[ 89,  88,  98, ..., 190, 229, 197],\n",
       "          [ 79,  78, 158, ..., 191, 228, 189],\n",
       "          [ 59,  66, 220, ..., 193, 223, 186]]],\n",
       " \n",
       " \n",
       "        [[[ 28,  85,  21, ...,  92, 183, 204],\n",
       "          [ 39,  77,  53, ...,  78, 182, 205],\n",
       "          [ 35,  61, 110, ..., 103, 186, 202]],\n",
       " \n",
       "         [[ 14,  83,  19, ...,  93, 200, 210],\n",
       "          [ 25,  73,  52, ...,  80, 199, 211],\n",
       "          [ 22,  64, 106, ..., 106, 201, 208]],\n",
       " \n",
       "         [[ 14,  74,  25, ..., 111, 218, 220],\n",
       "          [ 20,  69,  56, ...,  98, 217, 221],\n",
       "          [ 17,  59, 111, ..., 124, 218, 217]],\n",
       " \n",
       "         ...,\n",
       " \n",
       "         [[ 40,  89,  63, ..., 181, 227, 201],\n",
       "          [ 39,  82, 137, ..., 180, 228, 199],\n",
       "          [ 50,  64, 208, ..., 184, 223, 193]],\n",
       " \n",
       "         [[ 67,  88,  91, ..., 177, 227, 195],\n",
       "          [ 58,  79, 153, ..., 176, 226, 191],\n",
       "          [ 52,  70, 214, ..., 180, 222, 186]],\n",
       " \n",
       "         [[ 83,  88, 130, ..., 183, 228, 196],\n",
       "          [ 78,  81, 180, ..., 182, 224, 190],\n",
       "          [ 60,  67, 229, ..., 187, 221, 186]]],\n",
       " \n",
       " \n",
       "        [[[ 40,  83,  21, ...,  99, 171, 198],\n",
       "          [ 41,  76,  53, ...,  84, 170, 198],\n",
       "          [ 38,  60, 110, ..., 112, 175, 197]],\n",
       " \n",
       "         [[ 18,  78,  20, ...,  94, 189, 202],\n",
       "          [ 21,  77,  51, ...,  81, 189, 202],\n",
       "          [ 26,  58, 106, ..., 110, 193, 201]],\n",
       " \n",
       "         [[ 16,  61,  22, ..., 107, 213, 212],\n",
       "          [ 17,  50,  52, ...,  94, 213, 211],\n",
       "          [ 23,  54, 106, ..., 123, 215, 210]],\n",
       " \n",
       "         ...,\n",
       " \n",
       "         [[ 23,  90,  79, ..., 167, 231, 203],\n",
       "          [ 29,  85, 147, ..., 166, 230, 200],\n",
       "          [ 45,  63, 210, ..., 171, 226, 196]],\n",
       " \n",
       "         [[ 35,  88, 125, ..., 172, 229, 198],\n",
       "          [ 42,  83, 181, ..., 171, 226, 194],\n",
       "          [ 44,  66, 230, ..., 176, 223, 191]],\n",
       " \n",
       "         [[ 72,  85, 178, ..., 185, 227, 195],\n",
       "          [ 69,  82, 218, ..., 184, 223, 190],\n",
       "          [ 53,  70, 254, ..., 189, 220, 187]]],\n",
       " \n",
       " \n",
       "        ...,\n",
       " \n",
       " \n",
       "        [[[ 86, 100,  88, ...,  99, 187, 233],\n",
       "          [ 81,  98, 162, ...,  94, 185, 226],\n",
       "          [ 75,  72, 237, ..., 110, 186, 228]],\n",
       " \n",
       "         [[ 87,  98,  89, ...,  96, 204, 230],\n",
       "          [ 82,  94, 163, ...,  91, 202, 224],\n",
       "          [ 71,  76, 238, ..., 109, 199, 225]],\n",
       " \n",
       "         [[ 82,  95,  84, ..., 108, 217, 228],\n",
       "          [ 79,  93, 156, ..., 103, 217, 223],\n",
       "          [ 65,  73, 230, ..., 124, 210, 221]],\n",
       " \n",
       "         ...,\n",
       " \n",
       "         [[104, 104,  62, ..., 210, 204, 198],\n",
       "          [104, 104, 142, ..., 207, 200, 196],\n",
       "          [ 87,  86, 227, ..., 204, 195, 190]],\n",
       " \n",
       "         [[104, 102,  67, ..., 206, 196, 184],\n",
       "          [105, 102, 144, ..., 202, 193, 183],\n",
       "          [ 81,  87, 226, ..., 200, 189, 177]],\n",
       " \n",
       "         [[103, 100,  74, ..., 203, 196, 189],\n",
       "          [105, 101, 145, ..., 197, 193, 187],\n",
       "          [ 78,  78, 225, ..., 199, 189, 182]]],\n",
       " \n",
       " \n",
       "        [[[ 84, 103,  88, ...,  94, 186, 231],\n",
       "          [ 86, 104, 164, ...,  91, 184, 226],\n",
       "          [ 64,  79, 240, ..., 103, 185, 228]],\n",
       " \n",
       "         [[ 86, 106,  87, ...,  94, 198, 229],\n",
       "          [ 79, 104, 160, ...,  91, 197, 224],\n",
       "          [ 72,  79, 237, ..., 104, 194, 225]],\n",
       " \n",
       "         [[ 82, 103,  88, ..., 110, 211, 227],\n",
       "          [ 76, 103, 159, ..., 107, 211, 223],\n",
       "          [ 72,  87, 237, ..., 121, 204, 222]],\n",
       " \n",
       "         ...,\n",
       " \n",
       "         [[110, 103,  60, ..., 219, 222, 195],\n",
       "          [103, 104, 141, ..., 218, 216, 194],\n",
       "          [ 84,  86, 230, ..., 215, 212, 186]],\n",
       " \n",
       "         [[106, 103,  61, ..., 218, 214, 181],\n",
       "          [105, 103, 141, ..., 215, 209, 181],\n",
       "          [ 85,  87, 228, ..., 212, 205, 173]],\n",
       " \n",
       "         [[106, 105,  65, ..., 212, 208, 186],\n",
       "          [104,  99, 143, ..., 209, 205, 183],\n",
       "          [ 86,  81, 226, ..., 209, 200, 177]]],\n",
       " \n",
       " \n",
       "        [[[ 85, 103,  84, ...,  88, 190, 230],\n",
       "          [ 88, 106, 160, ...,  87, 188, 226],\n",
       "          [ 68,  82, 238, ...,  94, 190, 227]],\n",
       " \n",
       "         [[ 89, 103,  81, ...,  85, 199, 230],\n",
       "          [ 82, 105, 154, ...,  84, 197, 226],\n",
       "          [ 72,  87, 233, ...,  93, 194, 227]],\n",
       " \n",
       "         [[ 85, 104,  87, ..., 105, 208, 229],\n",
       "          [ 79, 106, 158, ..., 103, 208, 225],\n",
       "          [ 67,  91, 238, ..., 114, 201, 226]],\n",
       " \n",
       "         ...,\n",
       " \n",
       "         [[111, 113,  63, ..., 217, 232, 190],\n",
       "          [104, 103, 144, ..., 217, 227, 190],\n",
       "          [ 87,  88, 235, ..., 214, 223, 181]],\n",
       " \n",
       "         [[109, 104,  62, ..., 221, 226, 178],\n",
       "          [105, 104, 143, ..., 220, 221, 177],\n",
       "          [ 86,  88, 232, ..., 219, 216, 169]],\n",
       " \n",
       "         [[103, 103,  63, ..., 218, 218, 181],\n",
       "          [106,  98, 145, ..., 217, 213, 178],\n",
       "          [ 79,  80, 231, ..., 218, 209, 171]]]], dtype=uint8),\n",
       " 'y': array([[1],\n",
       "        [9],\n",
       "        [2],\n",
       "        ...,\n",
       "        [1],\n",
       "        [6],\n",
       "        [9]], dtype=uint8)}"
      ]
     },
     "execution_count": 47,
     "metadata": {},
     "output_type": "execute_result"
    }
   ],
   "source": [
    "mat"
   ]
  },
  {
   "cell_type": "code",
   "execution_count": 48,
   "id": "cd5541d7",
   "metadata": {
    "scrolled": false
   },
   "outputs": [
    {
     "data": {
      "text/plain": [
       "(32, 32, 3, 73257)"
      ]
     },
     "execution_count": 48,
     "metadata": {},
     "output_type": "execute_result"
    }
   ],
   "source": [
    "mat['X'].shape"
   ]
  },
  {
   "cell_type": "code",
   "execution_count": 49,
   "id": "00b8d84e",
   "metadata": {},
   "outputs": [
    {
     "data": {
      "text/plain": [
       "(73257, 1)"
      ]
     },
     "execution_count": 49,
     "metadata": {},
     "output_type": "execute_result"
    }
   ],
   "source": [
    "mat['y'].shape"
   ]
  },
  {
   "cell_type": "code",
   "execution_count": 50,
   "id": "a0a02b4a",
   "metadata": {},
   "outputs": [
    {
     "data": {
      "text/plain": [
       "array([9], dtype=uint8)"
      ]
     },
     "execution_count": 50,
     "metadata": {},
     "output_type": "execute_result"
    }
   ],
   "source": [
    "mat['y'][73256]"
   ]
  },
  {
   "cell_type": "code",
   "execution_count": 51,
   "id": "fcf75c71",
   "metadata": {},
   "outputs": [
    {
     "name": "stdout",
     "output_type": "stream",
     "text": [
      "(32, 32, 3, 73257) (73257, 1)\n"
     ]
    }
   ],
   "source": [
    "Xtrain = mat['X']\n",
    "ytrain = mat['y']\n",
    "\n",
    "print(Xtrain.shape, ytrain.shape)"
   ]
  },
  {
   "cell_type": "code",
   "execution_count": 52,
   "id": "22901f75",
   "metadata": {
    "scrolled": true
   },
   "outputs": [
    {
     "data": {
      "text/plain": [
       "numpy.ndarray"
      ]
     },
     "execution_count": 52,
     "metadata": {},
     "output_type": "execute_result"
    }
   ],
   "source": [
    "type(Xtrain)"
   ]
  },
  {
   "cell_type": "code",
   "execution_count": 53,
   "id": "304e9163",
   "metadata": {},
   "outputs": [
    {
     "data": {
      "text/plain": [
       "array([[[ 33,  84,  19, ...,  92, 190, 216],\n",
       "        [ 30,  76,  54, ...,  78, 188, 217],\n",
       "        [ 38,  59, 110, ..., 101, 191, 212]],\n",
       "\n",
       "       [[ 15,  86,  20, ...,  94, 205, 221],\n",
       "        [ 23,  73,  52, ...,  82, 203, 222],\n",
       "        [ 19,  66, 111, ..., 105, 206, 217]],\n",
       "\n",
       "       [[ 15,  77,  25, ..., 114, 220, 226],\n",
       "        [ 17,  78,  57, ..., 101, 218, 227],\n",
       "        [ 19,  56, 116, ..., 125, 220, 221]],\n",
       "\n",
       "       ...,\n",
       "\n",
       "       [[ 72,  90,  65, ..., 200, 229, 200],\n",
       "        [ 65,  78, 144, ..., 201, 231, 199],\n",
       "        [ 56,  69, 223, ..., 203, 224, 191]],\n",
       "\n",
       "       [[ 82,  88,  78, ..., 192, 229, 193],\n",
       "        [ 77,  77, 148, ..., 193, 229, 188],\n",
       "        [ 57,  67, 218, ..., 195, 224, 182]],\n",
       "\n",
       "       [[ 89,  88,  98, ..., 190, 229, 197],\n",
       "        [ 79,  78, 158, ..., 191, 228, 189],\n",
       "        [ 59,  66, 220, ..., 193, 223, 186]]], dtype=uint8)"
      ]
     },
     "execution_count": 53,
     "metadata": {},
     "output_type": "execute_result"
    }
   ],
   "source": [
    "Xtrain[0]"
   ]
  },
  {
   "cell_type": "code",
   "execution_count": 54,
   "id": "4a4ba1d1",
   "metadata": {},
   "outputs": [
    {
     "data": {
      "text/plain": [
       "<matplotlib.image.AxesImage at 0x1057b3fcd90>"
      ]
     },
     "execution_count": 54,
     "metadata": {},
     "output_type": "execute_result"
    },
    {
     "data": {
      "image/png": "[encoded data removed]",
      "text/plain": [
       "<Figure size 640x480 with 1 Axes>"
      ]
     },
     "metadata": {},
     "output_type": "display_data"
    }
   ],
   "source": [
    "# Xtrain.shape = (32, 32, 3, 73257)\n",
    "plt.imshow(Xtrain[:,:,:,3])"
   ]
  },
  {
   "cell_type": "code",
   "execution_count": 55,
   "id": "bbf08139",
   "metadata": {},
   "outputs": [
    {
     "data": {
      "text/plain": [
       "array([3], dtype=uint8)"
      ]
     },
     "execution_count": 55,
     "metadata": {},
     "output_type": "execute_result"
    }
   ],
   "source": [
    "ytrain[3]"
   ]
  },
  {
   "cell_type": "markdown",
   "id": "96bbc946",
   "metadata": {},
   "source": [
    "### 0 has label 10"
   ]
  },
  {
   "cell_type": "code",
   "execution_count": 56,
   "id": "8c043c8b",
   "metadata": {},
   "outputs": [
    {
     "name": "stdout",
     "output_type": "stream",
     "text": [
      "[   52    84    93 ... 73193 73220 73239]\n"
     ]
    }
   ],
   "source": [
    "indices_of_10 = np.where(ytrain == 10)[0]\n",
    "print(indices_of_10)"
   ]
  },
  {
   "cell_type": "code",
   "execution_count": 57,
   "id": "756284be",
   "metadata": {},
   "outputs": [
    {
     "data": {
      "text/plain": [
       "array([10], dtype=uint8)"
      ]
     },
     "execution_count": 57,
     "metadata": {},
     "output_type": "execute_result"
    }
   ],
   "source": [
    "ytrain[52] # In reality this number is 0"
   ]
  },
  {
   "cell_type": "code",
   "execution_count": 58,
   "id": "39e681ea",
   "metadata": {},
   "outputs": [],
   "source": [
    "ytrain = np.where(ytrain==10,0,ytrain)"
   ]
  },
  {
   "cell_type": "code",
   "execution_count": 59,
   "id": "476029a8",
   "metadata": {},
   "outputs": [
    {
     "name": "stdout",
     "output_type": "stream",
     "text": [
      "[]\n"
     ]
    }
   ],
   "source": [
    "# checking again if there are any labels with value 10\n",
    "\n",
    "indices_of_10 = np.where(ytrain == 10)[0]\n",
    "print(indices_of_10)"
   ]
  },
  {
   "cell_type": "markdown",
   "id": "88cd12c3",
   "metadata": {},
   "source": [
    "### Randomly displaying 10 images"
   ]
  },
  {
   "cell_type": "code",
   "execution_count": 60,
   "id": "304a7333",
   "metadata": {},
   "outputs": [
    {
     "data": {
      "image/png": "[encoded data removed]",
      "text/plain": [
       "<Figure size 1300x500 with 10 Axes>"
      ]
     },
     "metadata": {},
     "output_type": "display_data"
    }
   ],
   "source": [
    "fig = plt.figure(figsize=(13, 5))\n",
    "columns = 5\n",
    "rows = 2\n",
    "\n",
    "# ax enables access to manipulate each of subplots\n",
    "ax = []\n",
    "\n",
    "for i in range(rows * columns):\n",
    "    j = np.random.randint(Xtrain.shape[3], size=1)[0]\n",
    "    img = Xtrain[:, :, :, j]\n",
    "    # create subplot and append to ax    \n",
    "    ax.append(fig.add_subplot(rows, columns, i + 1))\n",
    "    ax[-1].set_title(str(ytrain[j]))  # set title\n",
    "    plt.tick_params(length=0)\n",
    "    plt.axis('off')\n",
    "    plt.imshow(img)"
   ]
  },
  {
   "cell_type": "markdown",
   "id": "de3404ee",
   "metadata": {},
   "source": [
    "### Test images in mat file"
   ]
  },
  {
   "cell_type": "code",
   "execution_count": 61,
   "id": "a8db4c05",
   "metadata": {},
   "outputs": [],
   "source": [
    "test_mat = scipy.io.loadmat('C:/Users/rsk13/Desktop/Code/Projects/DL Projects/House Street/DO NOT UPLOAD/Cropped/test_32x32.mat')"
   ]
  },
  {
   "cell_type": "code",
   "execution_count": 62,
   "id": "5c3b79cb",
   "metadata": {},
   "outputs": [],
   "source": [
    "Xtest = test_mat['X']\n",
    "ytest = test_mat['y']"
   ]
  },
  {
   "cell_type": "code",
   "execution_count": 63,
   "id": "c714b3da",
   "metadata": {},
   "outputs": [
    {
     "name": "stdout",
     "output_type": "stream",
     "text": [
      "[    3    21    34 ... 26006 26011 26021]\n"
     ]
    }
   ],
   "source": [
    "indices_of_10 = np.where(ytest == 10)[0]\n",
    "print(indices_of_10)"
   ]
  },
  {
   "cell_type": "code",
   "execution_count": 64,
   "id": "15dc5a01",
   "metadata": {},
   "outputs": [
    {
     "data": {
      "text/plain": [
       "array([10], dtype=uint8)"
      ]
     },
     "execution_count": 64,
     "metadata": {},
     "output_type": "execute_result"
    }
   ],
   "source": [
    "ytest[3]"
   ]
  },
  {
   "cell_type": "code",
   "execution_count": 65,
   "id": "5693ee5d",
   "metadata": {},
   "outputs": [
    {
     "name": "stdout",
     "output_type": "stream",
     "text": [
      "[]\n"
     ]
    }
   ],
   "source": [
    "ytest = np.where(ytest==10,0,ytest)\n",
    "indices_of_10 = np.where(ytest == 10)[0]\n",
    "print(indices_of_10)"
   ]
  },
  {
   "cell_type": "markdown",
   "id": "c24acd84",
   "metadata": {},
   "source": [
    "### Randomly displaying 10 images"
   ]
  },
  {
   "cell_type": "code",
   "execution_count": 66,
   "id": "47685c3a",
   "metadata": {},
   "outputs": [
    {
     "data": {
      "image/png": "[encoded data removed]",
      "text/plain": [
       "<Figure size 1300x500 with 10 Axes>"
      ]
     },
     "metadata": {},
     "output_type": "display_data"
    }
   ],
   "source": [
    "fig = plt.figure(figsize=(13, 5))\n",
    "columns = 5\n",
    "rows = 2\n",
    "\n",
    "# ax enables access to manipulate each of subplots\n",
    "ax = []\n",
    "\n",
    "for i in range(rows * columns):\n",
    "    j = np.random.randint(Xtest.shape[3], size=1)[0]\n",
    "    img = Xtest[:, :, :, j]\n",
    "    # create subplot and append to ax    \n",
    "    ax.append(fig.add_subplot(rows, columns, i + 1))\n",
    "    ax[-1].set_title(str(ytest[j]))  # set title\n",
    "    plt.tick_params(length=0)\n",
    "    plt.axis('off')\n",
    "    plt.imshow(img)"
   ]
  },
  {
   "cell_type": "code",
   "execution_count": 67,
   "id": "ddcb4c2f",
   "metadata": {},
   "outputs": [
    {
     "name": "stdout",
     "output_type": "stream",
     "text": [
      "Xtrain = (32, 32, 3, 73257), ytrain = (73257, 1)\n",
      "Xtest = (32, 32, 3, 26032), ytest = (26032, 1)\n"
     ]
    }
   ],
   "source": [
    "print('Xtrain = {}, ytrain = {}'.format(Xtrain.shape,ytrain.shape))\n",
    "print('Xtest = {}, ytest = {}'.format(Xtest.shape,ytest.shape))"
   ]
  },
  {
   "cell_type": "markdown",
   "id": "f8aed301",
   "metadata": {},
   "source": [
    "### Normalization"
   ]
  },
  {
   "cell_type": "code",
   "execution_count": 68,
   "id": "71de7d0f",
   "metadata": {},
   "outputs": [],
   "source": [
    "Xtrain= Xtrain/255\n",
    "Xtest = Xtest/255"
   ]
  },
  {
   "cell_type": "markdown",
   "id": "fa73b25f",
   "metadata": {},
   "source": [
    "## VGG-16 architecture"
   ]
  },
  {
   "cell_type": "code",
   "execution_count": 26,
   "id": "d1e749a6",
   "metadata": {},
   "outputs": [
    {
     "data": {
      "text/plain": [
       "(32, 32, 3, 73257)"
      ]
     },
     "execution_count": 26,
     "metadata": {},
     "output_type": "execute_result"
    }
   ],
   "source": [
    "Xtrain.shape"
   ]
  },
  {
   "cell_type": "code",
   "execution_count": 27,
   "id": "03c8e1da",
   "metadata": {},
   "outputs": [],
   "source": [
    "base_model = VGG16(weights='imagenet', include_top=False, input_shape=(32, 32, 3))"
   ]
  },
  {
   "cell_type": "code",
   "execution_count": 28,
   "id": "9a2ac612",
   "metadata": {},
   "outputs": [
    {
     "name": "stdout",
     "output_type": "stream",
     "text": [
      "Model: \"vgg16\"\n",
      "_________________________________________________________________\n",
      " Layer (type)                Output Shape              Param #   \n",
      "=================================================================\n",
      " input_1 (InputLayer)        [(None, 32, 32, 3)]       0         \n",
      "                                                                 \n",
      " block1_conv1 (Conv2D)       (None, 32, 32, 64)        1792      \n",
      "                                                                 \n",
      " block1_conv2 (Conv2D)       (None, 32, 32, 64)        36928     \n",
      "                                                                 \n",
      " block1_pool (MaxPooling2D)  (None, 16, 16, 64)        0         \n",
      "                                                                 \n",
      " block2_conv1 (Conv2D)       (None, 16, 16, 128)       73856     \n",
      "                                                                 \n",
      " block2_conv2 (Conv2D)       (None, 16, 16, 128)       147584    \n",
      "                                                                 \n",
      " block2_pool (MaxPooling2D)  (None, 8, 8, 128)         0         \n",
      "                                                                 \n",
      " block3_conv1 (Conv2D)       (None, 8, 8, 256)         295168    \n",
      "                                                                 \n",
      " block3_conv2 (Conv2D)       (None, 8, 8, 256)         590080    \n",
      "                                                                 \n",
      " block3_conv3 (Conv2D)       (None, 8, 8, 256)         590080    \n",
      "                                                                 \n",
      " block3_pool (MaxPooling2D)  (None, 4, 4, 256)         0         \n",
      "                                                                 \n",
      " block4_conv1 (Conv2D)       (None, 4, 4, 512)         1180160   \n",
      "                                                                 \n",
      " block4_conv2 (Conv2D)       (None, 4, 4, 512)         2359808   \n",
      "                                                                 \n",
      " block4_conv3 (Conv2D)       (None, 4, 4, 512)         2359808   \n",
      "                                                                 \n",
      " block4_pool (MaxPooling2D)  (None, 2, 2, 512)         0         \n",
      "                                                                 \n",
      " block5_conv1 (Conv2D)       (None, 2, 2, 512)         2359808   \n",
      "                                                                 \n",
      " block5_conv2 (Conv2D)       (None, 2, 2, 512)         2359808   \n",
      "                                                                 \n",
      " block5_conv3 (Conv2D)       (None, 2, 2, 512)         2359808   \n",
      "                                                                 \n",
      " block5_pool (MaxPooling2D)  (None, 1, 1, 512)         0         \n",
      "                                                                 \n",
      "=================================================================\n",
      "Total params: 14,714,688\n",
      "Trainable params: 14,714,688\n",
      "Non-trainable params: 0\n",
      "_________________________________________________________________\n"
     ]
    }
   ],
   "source": [
    "base_model.summary()"
   ]
  },
  {
   "cell_type": "code",
   "execution_count": 29,
   "id": "aeda93a0",
   "metadata": {},
   "outputs": [],
   "source": [
    "# Freezing the pre-trained base\n",
    "\n",
    "base_model.trainable = False"
   ]
  },
  {
   "cell_type": "code",
   "execution_count": 30,
   "id": "1966f486",
   "metadata": {},
   "outputs": [
    {
     "name": "stdout",
     "output_type": "stream",
     "text": [
      "Model: \"vgg16\"\n",
      "_________________________________________________________________\n",
      " Layer (type)                Output Shape              Param #   \n",
      "=================================================================\n",
      " input_1 (InputLayer)        [(None, 32, 32, 3)]       0         \n",
      "                                                                 \n",
      " block1_conv1 (Conv2D)       (None, 32, 32, 64)        1792      \n",
      "                                                                 \n",
      " block1_conv2 (Conv2D)       (None, 32, 32, 64)        36928     \n",
      "                                                                 \n",
      " block1_pool (MaxPooling2D)  (None, 16, 16, 64)        0         \n",
      "                                                                 \n",
      " block2_conv1 (Conv2D)       (None, 16, 16, 128)       73856     \n",
      "                                                                 \n",
      " block2_conv2 (Conv2D)       (None, 16, 16, 128)       147584    \n",
      "                                                                 \n",
      " block2_pool (MaxPooling2D)  (None, 8, 8, 128)         0         \n",
      "                                                                 \n",
      " block3_conv1 (Conv2D)       (None, 8, 8, 256)         295168    \n",
      "                                                                 \n",
      " block3_conv2 (Conv2D)       (None, 8, 8, 256)         590080    \n",
      "                                                                 \n",
      " block3_conv3 (Conv2D)       (None, 8, 8, 256)         590080    \n",
      "                                                                 \n",
      " block3_pool (MaxPooling2D)  (None, 4, 4, 256)         0         \n",
      "                                                                 \n",
      " block4_conv1 (Conv2D)       (None, 4, 4, 512)         1180160   \n",
      "                                                                 \n",
      " block4_conv2 (Conv2D)       (None, 4, 4, 512)         2359808   \n",
      "                                                                 \n",
      " block4_conv3 (Conv2D)       (None, 4, 4, 512)         2359808   \n",
      "                                                                 \n",
      " block4_pool (MaxPooling2D)  (None, 2, 2, 512)         0         \n",
      "                                                                 \n",
      " block5_conv1 (Conv2D)       (None, 2, 2, 512)         2359808   \n",
      "                                                                 \n",
      " block5_conv2 (Conv2D)       (None, 2, 2, 512)         2359808   \n",
      "                                                                 \n",
      " block5_conv3 (Conv2D)       (None, 2, 2, 512)         2359808   \n",
      "                                                                 \n",
      " block5_pool (MaxPooling2D)  (None, 1, 1, 512)         0         \n",
      "                                                                 \n",
      "=================================================================\n",
      "Total params: 14,714,688\n",
      "Trainable params: 0\n",
      "Non-trainable params: 14,714,688\n",
      "_________________________________________________________________\n"
     ]
    }
   ],
   "source": [
    "base_model.summary()"
   ]
  },
  {
   "cell_type": "code",
   "execution_count": 31,
   "id": "e52b04dc",
   "metadata": {},
   "outputs": [],
   "source": [
    "vgg_model = Sequential()\n",
    "\n",
    "vgg_model.add(base_model)\n",
    "vgg_model.add(Flatten())\n",
    "\n",
    "vgg_model.add(Dense(256,activation='relu',kernel_regularizer='l2',kernel_initializer='he_uniform'))\n",
    "vgg_model.add(Dropout(0.3))\n",
    "vgg_model.add(BatchNormalization())\n",
    "\n",
    "vgg_model.add(Dense(128,activation='relu',kernel_regularizer='l2',kernel_initializer='he_uniform'))\n",
    "vgg_model.add(Dropout(0.3))\n",
    "vgg_model.add(BatchNormalization())\n",
    "\n",
    "vgg_model.add(Dense(32,activation='relu',kernel_regularizer='l2',kernel_initializer='he_uniform'))\n",
    "vgg_model.add(Dropout(0.3))\n",
    "vgg_model.add(BatchNormalization())\n",
    "\n",
    "vgg_model.add(Dense(10,activation='softmax'))"
   ]
  },
  {
   "cell_type": "code",
   "execution_count": 32,
   "id": "eecae896",
   "metadata": {
    "scrolled": false
   },
   "outputs": [
    {
     "name": "stdout",
     "output_type": "stream",
     "text": [
      "Model: \"sequential\"\n",
      "_________________________________________________________________\n",
      " Layer (type)                Output Shape              Param #   \n",
      "=================================================================\n",
      " vgg16 (Functional)          (None, 1, 1, 512)         14714688  \n",
      "                                                                 \n",
      " flatten (Flatten)           (None, 512)               0         \n",
      "                                                                 \n",
      " dense (Dense)               (None, 256)               131328    \n",
      "                                                                 \n",
      " dropout (Dropout)           (None, 256)               0         \n",
      "                                                                 \n",
      " batch_normalization (BatchN  (None, 256)              1024      \n",
      " ormalization)                                                   \n",
      "                                                                 \n",
      " dense_1 (Dense)             (None, 128)               32896     \n",
      "                                                                 \n",
      " dropout_1 (Dropout)         (None, 128)               0         \n",
      "                                                                 \n",
      " batch_normalization_1 (Batc  (None, 128)              512       \n",
      " hNormalization)                                                 \n",
      "                                                                 \n",
      " dense_2 (Dense)             (None, 32)                4128      \n",
      "                                                                 \n",
      " dropout_2 (Dropout)         (None, 32)                0         \n",
      "                                                                 \n",
      " batch_normalization_2 (Batc  (None, 32)               128       \n",
      " hNormalization)                                                 \n",
      "                                                                 \n",
      " dense_3 (Dense)             (None, 10)                330       \n",
      "                                                                 \n",
      "=================================================================\n",
      "Total params: 14,885,034\n",
      "Trainable params: 169,514\n",
      "Non-trainable params: 14,715,520\n",
      "_________________________________________________________________\n"
     ]
    }
   ],
   "source": [
    "vgg_model.summary()"
   ]
  },
  {
   "cell_type": "code",
   "execution_count": 35,
   "id": "069e934e",
   "metadata": {},
   "outputs": [
    {
     "data": {
      "text/plain": [
       "((32, 32, 3, 73257), (32, 32, 3, 26032), (73257, 1), (26032, 1))"
      ]
     },
     "execution_count": 35,
     "metadata": {},
     "output_type": "execute_result"
    }
   ],
   "source": [
    "Xtrain.shape, Xtest.shape, ytrain.shape, ytest.shape"
   ]
  },
  {
   "cell_type": "code",
   "execution_count": 36,
   "id": "28cf9453",
   "metadata": {},
   "outputs": [],
   "source": [
    "vgg_model.compile(optimizer='adam',loss='sparse_categorical_crossentropy',metrics=['accuracy'])"
   ]
  },
  {
   "cell_type": "code",
   "execution_count": 37,
   "id": "0b48da6f",
   "metadata": {},
   "outputs": [],
   "source": [
    "early_stopping = EarlyStopping(\n",
    "    monitor=\"val_accuracy\",\n",
    "    min_delta=0.001,\n",
    "    patience=3,\n",
    "    verbose=1,\n",
    "    mode=\"auto\",\n",
    "    baseline=None,\n",
    "    restore_best_weights=True,)\n",
    "\n",
    "vgg_mc = ModelCheckpoint(\n",
    "    filepath='vgg16_best_model.h5',\n",
    "    save_weights_only=True,\n",
    "    save_best_only=True,   \n",
    "    monitor='val_accuracy',    \n",
    "    verbose=1               \n",
    ")"
   ]
  },
  {
   "cell_type": "code",
   "execution_count": 38,
   "id": "aa341b25",
   "metadata": {},
   "outputs": [
    {
     "name": "stdout",
     "output_type": "stream",
     "text": [
      "Epoch 1/30\n",
      "938/938 [==============================] - ETA: 0s - loss: 4.0529 - accuracy: 0.3021\n",
      "Epoch 1: val_accuracy improved from -inf to 0.40865, saving model to vgg16_best_model.h5\n",
      "938/938 [==============================] - 20s 17ms/step - loss: 4.0529 - accuracy: 0.3021 - val_loss: 2.2446 - val_accuracy: 0.4087\n",
      "Epoch 2/30\n",
      "934/938 [============================>.] - ETA: 0s - loss: 2.1512 - accuracy: 0.3555\n",
      "Epoch 2: val_accuracy did not improve from 0.40865\n",
      "938/938 [==============================] - 12s 13ms/step - loss: 2.1511 - accuracy: 0.3555 - val_loss: 1.9659 - val_accuracy: 0.3706\n",
      "Epoch 3/30\n",
      "936/938 [============================>.] - ETA: 0s - loss: 1.9992 - accuracy: 0.3509\n",
      "Epoch 3: val_accuracy did not improve from 0.40865\n",
      "938/938 [==============================] - 12s 13ms/step - loss: 1.9993 - accuracy: 0.3508 - val_loss: 1.8432 - val_accuracy: 0.3853\n",
      "Epoch 4/30\n",
      "932/938 [============================>.] - ETA: 0s - loss: 1.9441 - accuracy: 0.3549\n",
      "Epoch 4: val_accuracy improved from 0.40865 to 0.41718, saving model to vgg16_best_model.h5\n",
      "938/938 [==============================] - 12s 13ms/step - loss: 1.9439 - accuracy: 0.3547 - val_loss: 1.7804 - val_accuracy: 0.4172\n",
      "Epoch 5/30\n",
      "938/938 [==============================] - ETA: 0s - loss: 1.9186 - accuracy: 0.3486\n",
      "Epoch 5: val_accuracy did not improve from 0.41718\n",
      "938/938 [==============================] - 13s 13ms/step - loss: 1.9186 - accuracy: 0.3486 - val_loss: 1.7868 - val_accuracy: 0.4106\n",
      "Epoch 6/30\n",
      "937/938 [============================>.] - ETA: 0s - loss: 1.8889 - accuracy: 0.3571\n",
      "Epoch 6: val_accuracy did not improve from 0.41718\n",
      "938/938 [==============================] - 12s 13ms/step - loss: 1.8890 - accuracy: 0.3570 - val_loss: 1.7874 - val_accuracy: 0.4145\n",
      "Epoch 7/30\n",
      "933/938 [============================>.] - ETA: 0s - loss: 1.8768 - accuracy: 0.3637Restoring model weights from the end of the best epoch: 4.\n",
      "\n",
      "Epoch 7: val_accuracy did not improve from 0.41718\n",
      "938/938 [==============================] - 14s 15ms/step - loss: 1.8773 - accuracy: 0.3636 - val_loss: 1.7132 - val_accuracy: 0.4036\n",
      "Epoch 7: early stopping\n"
     ]
    }
   ],
   "source": [
    "vgg_history = vgg_model.fit(np.moveaxis(Xtrain[:,:,:,:30000],-1,0),ytrain[:30000],\n",
    "                    validation_data=(np.moveaxis(Xtest[:,:,:,:30000],-1,0),ytest[:30000]),\n",
    "                    validation_split=0.3,epochs=30,batch_size=32,callbacks=[early_stopping,vgg_mc])"
   ]
  },
  {
   "cell_type": "code",
   "execution_count": 39,
   "id": "019f2ceb",
   "metadata": {},
   "outputs": [
    {
     "data": {
      "image/png": "[encoded data removed]",
      "text/plain": [
       "<Figure size 640x480 with 1 Axes>"
      ]
     },
     "metadata": {},
     "output_type": "display_data"
    }
   ],
   "source": [
    "plt.plot(vgg_history.history['val_accuracy'], color='blue', label='Validation Accuracy')\n",
    "plt.plot(vgg_history.history['accuracy'], color='orange', label='Training Accuracy')\n",
    "\n",
    "plt.xlabel('Epoch')\n",
    "plt.ylabel('Accuracy')\n",
    "plt.title('Training and Validation Accuracy')\n",
    "\n",
    "plt.legend()\n",
    "\n",
    "plt.show()"
   ]
  },
  {
   "cell_type": "code",
   "execution_count": 40,
   "id": "5bc7de09",
   "metadata": {},
   "outputs": [
    {
     "data": {
      "image/png": "[encoded data removed]",
      "text/plain": [
       "<Figure size 640x480 with 1 Axes>"
      ]
     },
     "metadata": {},
     "output_type": "display_data"
    }
   ],
   "source": [
    "plt.plot(vgg_history.history['val_loss'], color='blue', label='Validation Loss')\n",
    "plt.plot(vgg_history.history['loss'], color='orange', label='Training Loss')\n",
    "\n",
    "plt.xlabel('Epoch')\n",
    "plt.ylabel('Loss')\n",
    "plt.title('Training and Validation Loss')\n",
    "\n",
    "plt.legend()\n",
    "\n",
    "plt.show()"
   ]
  },
  {
   "cell_type": "code",
   "execution_count": null,
   "id": "ceadec01",
   "metadata": {},
   "outputs": [],
   "source": []
  }
 ],
 "metadata": {
  "kernelspec": {
   "display_name": "tf",
   "language": "python",
   "name": "tf"
  },
  "language_info": {
   "codemirror_mode": {
    "name": "ipython",
    "version": 3
   },
   "file_extension": ".py",
   "mimetype": "text/x-python",
   "name": "python",
   "nbconvert_exporter": "python",
   "pygments_lexer": "ipython3",
   "version": "3.9.17"
  }
 },
 "nbformat": 4,
 "nbformat_minor": 5
}
